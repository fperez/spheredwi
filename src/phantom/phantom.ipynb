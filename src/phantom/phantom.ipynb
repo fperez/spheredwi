{
 "metadata": {
  "name": "phantom"
 }, 
 "nbformat": 2, 
 "worksheets": [
  {
   "cells": [
    {
     "cell_type": "code", 
     "collapsed": false, 
     "input": [
      "import numpy as np", 
      "", 
      "from dipy.sims.phantom import orbital_phantom, add_rician_noise", 
      "from dipy.viz import fvtk"
     ], 
     "language": "python", 
     "outputs": [
      {
       "output_type": "stream", 
       "stream": "stderr", 
       "text": [
        "/usr/lib/pymodules/python2.7/nose/plugins/manager.py:405: UserWarning: Module dateutil was already imported from /home/stefan/src/matplotlib/lib/dateutil/__init__.pyc, but /usr/lib/python2.7/dist-packages is being added to sys.path", 
        "  import pkg_resources"
       ]
      }
     ], 
     "prompt_number": 1
    }, 
    {
     "cell_type": "code", 
     "collapsed": true, 
     "input": [
      "def f1(t):", 
      "    t = np.linspace(-1, 1, len(t)) * 0.95", 
      "    x = t", 
      "    y = 0 * t", 
      "    z = t ** 2 + 0.05", 
      "    return x, y, z"
     ], 
     "language": "python", 
     "outputs": [], 
     "prompt_number": 96
    }, 
    {
     "cell_type": "code", 
     "collapsed": true, 
     "input": [
      "def f2(t):", 
      "    t = np.linspace(-1, 1, len(t)) * 0.95", 
      "    #x = (1 - np.cos(t)) ** 2", 
      "    x = t ** 2 - 0.05", 
      "    y = t", 
      "    z = 0 * x", 
      "    return x, y, z"
     ], 
     "language": "python", 
     "outputs": [], 
     "prompt_number": 110
    }, 
    {
     "cell_type": "code", 
     "collapsed": false, 
     "input": [
      "def f3(t):", 
      "    t = np.linspace(-1, 1, len(t)) * 0.95", 
      "    x = -(t ** 2 + 0.05)", 
      "    y = t", 
      "    z = 0 * x", 
      "    return x, y, z"
     ], 
     "language": "python", 
     "outputs": [], 
     "prompt_number": 111
    }, 
    {
     "cell_type": "code", 
     "collapsed": false, 
     "input": [
      "t = np.linspace(0, 2 * np.pi, 100)", 
      "data_shape = (33, 33, 33, 65)", 
      "origin = np.array([16, 16, 16])", 
      "scale = 0.9 * origin", 
      "", 
      "vol = orbital_phantom(func=f1, t=t, datashape=data_shape, origin=origin, scale=scale)", 
      "vol += orbital_phantom(func=f2, t=t, datashape=data_shape, origin=origin, scale=scale)", 
      "vol += orbital_phantom(func=f3, t=t, datashape=data_shape, origin=origin, scale=scale)"
     ], 
     "language": "python", 
     "outputs": [], 
     "prompt_number": 112
    }, 
    {
     "cell_type": "code", 
     "collapsed": false, 
     "input": [
      "r=fvtk.ren()", 
      "fvtk.add(r, fvtk.volume(vol[..., 0]))", 
      "fvtk.show(r)"
     ], 
     "language": "python", 
     "outputs": [], 
     "prompt_number": 113
    }, 
    {
     "cell_type": "code", 
     "collapsed": false, 
     "input": [
      "vol.shape"
     ], 
     "language": "python", 
     "outputs": [], 
     "prompt_number": "&nbsp;"
    }, 
    {
     "cell_type": "code", 
     "collapsed": true, 
     "input": [
      "orbital_phantom??"
     ], 
     "language": "python", 
     "outputs": [], 
     "prompt_number": "&nbsp;"
    }, 
    {
     "cell_type": "code", 
     "collapsed": false, 
     "input": [
      "qtconsole"
     ], 
     "language": "python", 
     "outputs": [], 
     "prompt_number": "&nbsp;"
    }, 
    {
     "cell_type": "code", 
     "collapsed": true, 
     "input": [], 
     "language": "python", 
     "outputs": [], 
     "prompt_number": "&nbsp;"
    }
   ]
  }
 ]
}