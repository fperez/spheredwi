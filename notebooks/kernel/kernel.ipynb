{
    "worksheets": [
        {
            "cells": [
                {
                    "cell_type": "code", 
                    "language": "python", 
                    "outputs": [], 
                    "collapsed": true, 
                    "prompt_number": 42, 
                    "input": "import numpy as np\nimport scipy.special as ss\nimport matplotlib.pyplot as plt"
                }, 
                {
                    "cell_type": "code", 
                    "language": "python", 
                    "outputs": [], 
                    "collapsed": true, 
                    "prompt_number": 43, 
                    "input": "def kernel(x, N=5, spectrum=None):\n    \"\"\"\n    Evaluate the reproducing kernel.\n\n    Parameters\n    ----------\n    x : array_like\n        Points at which to evaluate the kernel.\n    N : int, optional\n        Kernel order.  Defaults to 5.  If the spectrum\n        is specified, the kernel order is not used.\n    spectrum : array_like, optional\n        Weights for each polynomial component of the kernel.\n        Ones by default.\n\n    \"\"\"\n    out = np.zeros_like(x)\n    \n    if spectrum is None:\n        spectrum = np.ones(N + 1)\n        \n    N = len(spectrum)\n    \n    for l in range(N):\n        Pl = ss.legendre(l)\n        out += spectrum[l] * (2 * l + 1) / (4 * np.pi) * Pl(x)\n    return out"
                }, 
                {
                    "cell_type": "code", 
                    "language": "python", 
                    "outputs": [], 
                    "collapsed": false, 
                    "prompt_number": 44, 
                    "input": "u = np.linspace(-1, 1, 1000)\nspectrum = np.ones(5)\nk = kernel(u, spectrum=spectrum)\n\nf, (ax1, ax2) = plt.subplots(1, 2, figsize=(10,4))\n\nax1.plot(u, k)\nax1.set_title('Kernel value over the interval [-1, 1]')\n\nax2.plot(spectrum, 'o-')\nax2.set_title('Extended kernel spectrum')\nax2.set_ylim(-0.1, 1.1);\n"
                }, 
                {
                    "cell_type": "code", 
                    "language": "python", 
                    "outputs": [], 
                    "collapsed": false, 
                    "prompt_number": 45, 
                    "input": "sqrt(2)"
                }, 
                {
                    "cell_type": "code", 
                    "language": "python", 
                    "outputs": [], 
                    "collapsed": false, 
                    "prompt_number": 46, 
                    "input": "theta = np.linspace(0, 2 * np.pi, 1000)\nang = np.cos(theta)\nn1, n2 = 2, 3\nk1 = kernel(ang, n1)\nk2 = kernel(ang, n2)\nf, ax = subplots(subplot_kw=dict(polar=True))\nax.plot(theta, abs(k1), color='red',label=str(n1))\nax.plot(theta, abs(k2), label=str(n2))\nax.legend()\nax.set_title('Kernel magnitude with varying angle');"
                }, 
                {
                    "cell_type": "code", 
                    "language": "python", 
                    "outputs": [], 
                    "collapsed": false, 
                    "prompt_number": 47, 
                    "input": "spectrum = np.zeros(10)\nspectrum[:5] = 1\nspectrum[5:] = np.linspace(1, 0, 5)\nk = kernel(u, spectrum=spectrum)\n\nf, (ax1, ax2) = plt.subplots(1, 2, figsize=(10,4))\n\nax1.plot(u, k)\nax1.set_title('Linearly extended kernel')\n\nax2.plot(spectrum, 'o-')\nax2.set_title('Extended kernel spectrum')\nax2.set_ylim(-0.1, 1.1);"
                }, 
                {
                    "cell_type": "code", 
                    "language": "python", 
                    "outputs": [], 
                    "collapsed": false, 
                    "prompt_number": 51, 
                    "input": "import scipy.optimize as opt\n\nu0 = 0.8\nu = np.linspace(-1 + 1e-10, u0, 200)\n\ndef full_spectrum(partial_spectrum):\n    return np.hstack((np.ones(5), partial_spectrum))\n\ndef cost(spectrum):\n    return np.sum(np.abs(kernel(u, spectrum=full_spectrum(spectrum))))\n\nopt_spectrum = full_spectrum(opt.fmin(cost, np.ones(5)))\nprint opt_spectrum\n\nf, (ax1, ax2) = plt.subplots(1, 2)\n\nu = np.linspace(-1, 1, 1000)\nax1.plot(u, kernel(u, spectrum=opt_spectrum))\nax1.set_title('Optimally extended kernel')\n\nax2.plot(opt_spectrum, 'o-')\nax2.set_title('Kernel spectrum')\nax2.set_ylim(-0.1, 1.1);\n"
                }, 
                {
                    "cell_type": "code", 
                    "language": "python", 
                    "outputs": [], 
                    "collapsed": true, 
                    "prompt_number": 48, 
                    "input": ""
                }
            ]
        }
    ], 
    "metadata": {
        "name": "Localised kernel"
    }, 
    "nbformat": 2
}