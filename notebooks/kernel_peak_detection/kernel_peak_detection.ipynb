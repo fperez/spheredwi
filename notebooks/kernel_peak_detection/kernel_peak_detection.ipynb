{
 "metadata": {
  "name": "kernel_peak_detection"
 }, 
 "nbformat": 2, 
 "worksheets": [
  {
   "cells": [
    {
     "cell_type": "code", 
     "collapsed": false, 
     "input": [
      "import numpy as np", 
      "", 
      "import matplotlib.pyplot as plt", 
      "from mpl_toolkits.basemap import Basemap"
     ], 
     "language": "python", 
     "outputs": [], 
     "prompt_number": 137
    }, 
    {
     "cell_type": "code", 
     "collapsed": true, 
     "input": [
      "N = 100", 
      "lat_deg = np.linspace(-90, 90, N)", 
      "long_deg = np.linspace(-180, 180, N)", 
      "", 
      "theta_all = np.deg2rad(lat_deg) - np.pi/2", 
      "phi_all = np.deg2rad(long_deg)"
     ], 
     "language": "python", 
     "outputs": [], 
     "prompt_number": 144
    }, 
    {
     "cell_type": "code", 
     "collapsed": true, 
     "input": [
      "def arc_length(theta1, phi1, theta2, phi2):", 
      "    \"\"\"", 
      "    Parameters", 
      "    ----------", 
      "    theta1, phi1 : float, ndarray", 
      "        First angle coordinates. Theta is the polar angle (z-axis = 0),", 
      "        phi the azimuthal angle.", 
      "    theta2, phi2 : float, ndarray", 
      "        Second angle.  Because of broadcasting, angles can also", 
      "        be given as ndarrays.", 
      "", 
      "    Notes", 
      "    -----", 
      "    There are several ways of computing arc lengths on the sphere.  Some of", 
      "    these suffer from numeric instability, mainly due to `arccos` being so", 
      "    sensitive around 1 and -1.", 
      "", 
      "    For example, in Cartesian coordinates, the distance can be", 
      "    computed using the dot product.  Since,", 
      "", 
      "    ::", 
      "", 
      "        a.dot(b) = a b cos(rho)", 
      "", 
      "    we have that the included angle, rho, is given by", 
      "    ``arccos(a.dot(b) / ab)``.  The arc length is then ``R * rho``", 
      "    where R is the sphere radius.", 
      "", 
      "    Similarly, in spherical coordinates, the included angle", 
      "    is computed as::", 
      "", 
      "      arccos(cos(theta1) * cos(theta2)", 
      "             + sin(theta1) * sin(theta2) * cos(phi2 - phi1))", 
      "", 
      "    In order to address numerical issues, the Haversine", 
      "    formula may be used, but that formule, in turn, also", 
      "    suffers from round-off errors when dealing with anti-podal vectors.", 
      "", 
      "    To avoid these issues, it is recommended using the Vincenty", 
      "    formula for distances on ellipsoids, specialised for the", 
      "    sphere.", 
      "", 
      "    .. note::", 
      "", 
      "       Many of the formulas given on this topic use latitude", 
      "       and longitude, whereas in physics the elevation is", 
      "       measured downwards from the z axis.", 
      "", 
      "       To convert formulas, substitude cos for sin for", 
      "       single angles, and leave trigonometric identities", 
      "       in place when operating on angle differences.  Or,", 
      "       alternatively, simply subtract pi/2 from the elevation", 
      "       before using them.", 
      "", 
      "    References", 
      "    ----------", 
      "    http://en.wikipedia.org/wiki/Great-circle_distance#Formulae", 
      "    \"\"\"", 
      "    dp = phi2 - phi1", 
      "    cdp = np.cos(dp)", 
      "    ", 
      "    return np.arctan2(np.sqrt((np.sin(theta1) * np.sin(dp))**2 + \\", 
      "                              (np.sin(theta2) * np.cos(theta1) - \\", 
      "                               np.cos(theta2) * np.sin(theta1) * cdp)**2),", 
      "                      np.cos(theta2) * np.cos(theta1) + \\", 
      "                      np.sin(theta2) * np.sin(theta1) * cdp)"
     ], 
     "language": "python", 
     "outputs": [], 
     "prompt_number": 145
    }, 
    {
     "cell_type": "code", 
     "collapsed": true, 
     "input": [
      "def peak(theta, phi, sigma):", 
      "    \"\"\"Generate a peak of width sigma at (theta, phi)", 
      "    with theta the polar angle, phi the azimuthal angle.", 
      "    \"\"\"", 
      "    ", 
      "    p = np.exp(-arc_length(theta, phi, theta_all[:, None], phi_all)**2 / float(sigma**2))", 
      "    p /= p.max()", 
      "    ", 
      "    return p"
     ], 
     "language": "python", 
     "outputs": [], 
     "prompt_number": 146
    }, 
    {
     "cell_type": "code", 
     "collapsed": false, 
     "input": [
      "m = Basemap(projection='ortho', lat_0=0, lon_0=0, resolution='c')", 
      "m.drawmapboundary()", 
      "", 
      "x, y = m(*np.meshgrid(long_deg, lat_deg))", 
      "", 
      "m.pcolor(x, y, peak(1.8 * np.pi / 3, 2.5 * np.pi / 3, 0.5) + peak(np.pi / 3, np.pi, 0.5));"
     ], 
     "language": "python", 
     "outputs": [], 
     "prompt_number": 148
    }, 
    {
     "cell_type": "code", 
     "collapsed": false, 
     "input": [], 
     "language": "python", 
     "outputs": [], 
     "prompt_number": 93
    }, 
    {
     "cell_type": "code", 
     "collapsed": true, 
     "input": [], 
     "language": "python", 
     "outputs": [], 
     "prompt_number": "&nbsp;"
    }
   ]
  }
 ]
}